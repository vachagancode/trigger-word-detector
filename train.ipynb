{
  "nbformat": 4,
  "nbformat_minor": 0,
  "metadata": {
    "colab": {
      "provenance": [],
      "gpuType": "T4"
    },
    "kernelspec": {
      "name": "python3",
      "display_name": "Python 3"
    },
    "language_info": {
      "name": "python"
    },
    "accelerator": "GPU"
  },
  "cells": [
    {
      "cell_type": "code",
      "source": [
        "import os\n",
        "import kagglehub\n",
        "import shutil"
      ],
      "metadata": {
        "id": "actZci21tH1t"
      },
      "execution_count": null,
      "outputs": []
    },
    {
      "cell_type": "code",
      "source": [
        "!rm -r trigger-word-detector/\n",
        "!rm -r raw_data/\n",
        "!rm -r custom_data/\n",
        "!rm *.py\n",
        "!rm *.csv"
      ],
      "metadata": {
        "id": "lIdlZeQbkcit",
        "colab": {
          "base_uri": "https://localhost:8080/"
        },
        "outputId": "6bf91aba-8cff-472e-9db7-a080d67411aa"
      },
      "execution_count": null,
      "outputs": [
        {
          "output_type": "stream",
          "name": "stdout",
          "text": [
            "rm: cannot remove 'trigger-word-detector/': No such file or directory\n",
            "rm: cannot remove 'raw_data/': No such file or directory\n",
            "rm: cannot remove 'custom_data/': No such file or directory\n",
            "rm: cannot remove '*.py': No such file or directory\n",
            "rm: cannot remove '*.csv': No such file or directory\n"
          ]
        }
      ]
    },
    {
      "cell_type": "code",
      "execution_count": null,
      "metadata": {
        "colab": {
          "base_uri": "https://localhost:8080/"
        },
        "id": "XsjF0C-VxCrJ",
        "outputId": "dee0e21e-cee7-457a-c548-3dfeef4689b3"
      },
      "outputs": [
        {
          "output_type": "stream",
          "name": "stdout",
          "text": [
            "Cloning into 'trigger-word-detector'...\n",
            "remote: Enumerating objects: 2946, done.\u001b[K\n",
            "remote: Counting objects: 100% (23/23), done.\u001b[K\n",
            "remote: Compressing objects: 100% (15/15), done.\u001b[K\n",
            "remote: Total 2946 (delta 11), reused 16 (delta 7), pack-reused 2923 (from 1)\u001b[K\n",
            "Receiving objects: 100% (2946/2946), 567.31 MiB | 27.17 MiB/s, done.\n",
            "Resolving deltas: 100% (166/166), done.\n"
          ]
        }
      ],
      "source": [
        "!git clone https://github.com/vachagancode/trigger-word-detector.git"
      ]
    },
    {
      "cell_type": "code",
      "source": [
        "!mkdir -p ~/.kaggle"
      ],
      "metadata": {
        "id": "sTqSViJKxBc_"
      },
      "execution_count": null,
      "outputs": []
    },
    {
      "cell_type": "code",
      "source": [
        "!mkdir models/"
      ],
      "metadata": {
        "id": "MU8mHld556i_"
      },
      "execution_count": null,
      "outputs": []
    },
    {
      "cell_type": "code",
      "source": [
        "!mkdir downloads/"
      ],
      "metadata": {
        "id": "BLU-WOF_6CRe"
      },
      "execution_count": null,
      "outputs": []
    },
    {
      "cell_type": "code",
      "source": [
        "os.environ['KAGGLE_USERNAME'] = 'vachkarapetyan'\n",
        "os.environ['KAGGLE_KEY'] = 'b2c2543f3ff6293d75e1c5f36d9bf6d0'"
      ],
      "metadata": {
        "id": "3sASrYvA38s7"
      },
      "execution_count": null,
      "outputs": []
    },
    {
      "cell_type": "code",
      "source": [
        "!mv trigger-word-detector/* ./"
      ],
      "metadata": {
        "id": "guwDukbKxe-t"
      },
      "execution_count": null,
      "outputs": []
    },
    {
      "cell_type": "code",
      "source": [
        "!mkdir ./raw_data\n",
        "!mv ./kaggle.json ~/.kaggle/\n",
        "!chmod 600 ~/.kaggle/kaggle.json"
      ],
      "metadata": {
        "colab": {
          "base_uri": "https://localhost:8080/"
        },
        "id": "N4T1hwmntBWs",
        "outputId": "b3743e1a-7dc9-4921-a502-9d2735077ab1"
      },
      "execution_count": null,
      "outputs": [
        {
          "output_type": "stream",
          "name": "stdout",
          "text": [
            "mv: cannot stat './kaggle.json': No such file or directory\n",
            "chmod: cannot access '/root/.kaggle/kaggle.json': No such file or directory\n"
          ]
        }
      ]
    },
    {
      "cell_type": "code",
      "source": [
        "path = kagglehub.dataset_download(\"vachkarapetyan/jarvistriggerworddetecctordataset\")\n",
        "shutil.move(src=path, dst=\"./downloads/\")"
      ],
      "metadata": {
        "colab": {
          "base_uri": "https://localhost:8080/",
          "height": 105
        },
        "id": "p14QRMKjtE-d",
        "outputId": "2a635ae4-d8d4-4401-c211-5e0a3ee3740c"
      },
      "execution_count": null,
      "outputs": [
        {
          "output_type": "stream",
          "name": "stdout",
          "text": [
            "Warning: Looks like you're using an outdated `kagglehub` version (installed: 0.3.11), please consider upgrading to the latest version (0.3.12).\n",
            "Downloading from https://www.kaggle.com/api/v1/datasets/download/vachkarapetyan/jarvistriggerworddetecctordataset?dataset_version_number=1...\n"
          ]
        },
        {
          "output_type": "stream",
          "name": "stderr",
          "text": [
            "100%|██████████| 2.11G/2.11G [00:16<00:00, 134MB/s]"
          ]
        },
        {
          "output_type": "stream",
          "name": "stdout",
          "text": [
            "Extracting files...\n"
          ]
        },
        {
          "output_type": "stream",
          "name": "stderr",
          "text": [
            "\n"
          ]
        },
        {
          "output_type": "execute_result",
          "data": {
            "text/plain": [
              "'./downloads/1'"
            ],
            "application/vnd.google.colaboratory.intrinsic+json": {
              "type": "string"
            }
          },
          "metadata": {},
          "execution_count": 10
        }
      ]
    },
    {
      "cell_type": "code",
      "source": [
        "shutil.move(src=\"./downloads/1/background/background\", dst=\"./raw_data\")\n",
        "shutil.move(src=\"./downloads/1/negative/negative\", dst=\"./raw_data\")\n",
        "shutil.move(src=\"./downloads/1/positive/positive\", dst=\"./raw_data\")"
      ],
      "metadata": {
        "colab": {
          "base_uri": "https://localhost:8080/",
          "height": 36
        },
        "id": "MmUVAh8g4xCZ",
        "outputId": "00a28d39-51b4-45e4-ce8d-6cb556f66050"
      },
      "execution_count": null,
      "outputs": [
        {
          "output_type": "execute_result",
          "data": {
            "text/plain": [
              "'./raw_data/positive'"
            ],
            "application/vnd.google.colaboratory.intrinsic+json": {
              "type": "string"
            }
          },
          "metadata": {},
          "execution_count": 11
        }
      ]
    },
    {
      "cell_type": "code",
      "source": [
        "!rm -r ./downloads"
      ],
      "metadata": {
        "id": "WgjoLNh952EH"
      },
      "execution_count": null,
      "outputs": []
    },
    {
      "cell_type": "code",
      "source": [
        "from train import start_training"
      ],
      "metadata": {
        "id": "DN0w9ZymyGqp"
      },
      "execution_count": null,
      "outputs": []
    },
    {
      "cell_type": "code",
      "source": [
        "start_training(m=\"./models/me2l2.pth\")"
      ],
      "metadata": {
        "id": "H5aByMRGyf85",
        "colab": {
          "base_uri": "https://localhost:8080/"
        },
        "outputId": "e16382b2-dee8-49e9-ea52-c76826e01b89",
        "collapsed": true
      },
      "execution_count": null,
      "outputs": [
        {
          "output_type": "stream",
          "name": "stdout",
          "text": [
            "Using: cuda\n",
            "Epochs to train: 30\n"
          ]
        },
        {
          "output_type": "stream",
          "name": "stderr",
          "text": [
            "\r  0%|          | 0/1009 [00:00<?, ?it/s]/usr/local/lib/python3.11/dist-packages/torchaudio/functional/functional.py:584: UserWarning: At least one mel filterbank has all zero values. The value for `n_mels` (128) may be set too high. Or, the value for `n_freqs` (201) may be set too low.\n",
            "  warnings.warn(\n",
            "100%|██████████| 1009/1009 [28:42<00:00,  1.71s/it]\n"
          ]
        },
        {
          "output_type": "stream",
          "name": "stdout",
          "text": [
            "Epoch: 0 | Train Loss: 0.62 | Test Loss: 0.14\n"
          ]
        },
        {
          "output_type": "stream",
          "name": "stderr",
          "text": [
            "100%|██████████| 1009/1009 [28:23<00:00,  1.69s/it]\n",
            "100%|██████████| 1009/1009 [28:21<00:00,  1.69s/it]\n"
          ]
        },
        {
          "output_type": "stream",
          "name": "stdout",
          "text": [
            "Epoch: 2 | Train Loss: 0.07 | Test Loss: 0.03\n"
          ]
        },
        {
          "output_type": "stream",
          "name": "stderr",
          "text": [
            " 69%|██████▉   | 699/1009 [19:38<08:18,  1.61s/it]"
          ]
        }
      ]
    },
    {
      "cell_type": "code",
      "source": [],
      "metadata": {
        "id": "m3JzNgL-9QYI"
      },
      "execution_count": null,
      "outputs": []
    }
  ]
}